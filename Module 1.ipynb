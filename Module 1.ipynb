{
 "cells": [
  {
   "cell_type": "code",
   "execution_count": 3,
   "id": "6de65d28-61b2-40a1-812b-0fe866914453",
   "metadata": {},
   "outputs": [
    {
     "name": "stdout",
     "output_type": "stream",
     "text": [
      "24.0\n",
      "24\n"
     ]
    }
   ],
   "source": [
    "seconds_per_hour=3600\n",
    "seconds_per_day=seconds_per_hour*24\n",
    "calc1=float(seconds_per_day/seconds_per_hour)\n",
    "calc2=seconds_per_day//seconds_per_hour\n",
    "print(calc1)\n",
    "print(calc2)"
   ]
  },
  {
   "cell_type": "code",
   "execution_count": null,
   "id": "82a5c25d-af25-48e7-ab28-e80538b27666",
   "metadata": {},
   "outputs": [],
   "source": []
  }
 ],
 "metadata": {
  "kernelspec": {
   "display_name": "Python 3 (ipykernel)",
   "language": "python",
   "name": "python3"
  },
  "language_info": {
   "codemirror_mode": {
    "name": "ipython",
    "version": 3
   },
   "file_extension": ".py",
   "mimetype": "text/x-python",
   "name": "python",
   "nbconvert_exporter": "python",
   "pygments_lexer": "ipython3",
   "version": "3.12.7"
  }
 },
 "nbformat": 4,
 "nbformat_minor": 5
}
