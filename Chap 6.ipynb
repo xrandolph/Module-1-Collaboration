{
 "cells": [
  {
   "cell_type": "code",
   "execution_count": 1,
   "id": "2d205716-ea13-42d6-8a21-37e467c9ee14",
   "metadata": {},
   "outputs": [
    {
     "name": "stdout",
     "output_type": "stream",
     "text": [
      "3\n",
      "2\n",
      "1\n",
      "0\n"
     ]
    }
   ],
   "source": [
    "nums=[3,2,1,0]\n",
    "for num in nums:\n",
    "    print(num)"
   ]
  },
  {
   "cell_type": "code",
   "execution_count": 5,
   "id": "5852123e-17df-4c8b-906f-49484432e891",
   "metadata": {
    "scrolled": true
   },
   "outputs": [
    {
     "name": "stdout",
     "output_type": "stream",
     "text": [
      "Too low\n",
      "Too low\n",
      "Too low\n",
      "Too low\n",
      "Too low\n",
      "Too low\n",
      "Found it\n"
     ]
    }
   ],
   "source": [
    "guessMe = 7\n",
    "number = 1\n",
    "\n",
    "while True:\n",
    "    if number==guessMe:\n",
    "        print(\"Found it\")\n",
    "        break\n",
    "    if number<=guessMe:\n",
    "        print(\"Too low\")\n",
    "    if number>guessMe:\n",
    "        print(\"oops\")\n",
    "        break\n",
    "    number +=1\n",
    "    "
   ]
  },
  {
   "cell_type": "code",
   "execution_count": 9,
   "id": "48553210-0e22-4a24-9c6c-f24bc28a0d1e",
   "metadata": {},
   "outputs": [
    {
     "name": "stdout",
     "output_type": "stream",
     "text": [
      "Too low\n",
      "Too low\n",
      "Too low\n",
      "Too low\n",
      "Too low\n",
      "Found it\n"
     ]
    }
   ],
   "source": [
    "guess_me=5\n",
    "for num in range(0,10):\n",
    "    if num==guess_me:\n",
    "        print(\"Found it\")\n",
    "        break\n",
    "    if num<guess_me:\n",
    "        print(\"Too low\")\n",
    "    if num>guess_me:\n",
    "        print(\"oops\")\n",
    "        break"
   ]
  },
  {
   "cell_type": "code",
   "execution_count": null,
   "id": "b32e3a21-6c59-4018-81f3-5ddf04a4fda9",
   "metadata": {},
   "outputs": [],
   "source": []
  }
 ],
 "metadata": {
  "kernelspec": {
   "display_name": "Python 3 (ipykernel)",
   "language": "python",
   "name": "python3"
  },
  "language_info": {
   "codemirror_mode": {
    "name": "ipython",
    "version": 3
   },
   "file_extension": ".py",
   "mimetype": "text/x-python",
   "name": "python",
   "nbconvert_exporter": "python",
   "pygments_lexer": "ipython3",
   "version": "3.12.7"
  }
 },
 "nbformat": 4,
 "nbformat_minor": 5
}
