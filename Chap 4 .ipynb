{
 "cells": [
  {
   "cell_type": "code",
   "execution_count": 4,
   "id": "25118e9a-b30b-4816-81cf-c236078f613a",
   "metadata": {},
   "outputs": [
    {
     "name": "stdout",
     "output_type": "stream",
     "text": [
      "Too Low\n"
     ]
    }
   ],
   "source": [
    "secret=5\n",
    "guess=1\n",
    "if guess==secret:\n",
    "    print (\"Just Right\")\n",
    "elif guess>secret:\n",
    "    print (\"Too high\")\n",
    "else:\n",
    "    print(\"Too Low\")"
   ]
  },
  {
   "cell_type": "code",
   "execution_count": 3,
   "id": "fcaa8757-9e44-48dc-a95b-baca7d087f7d",
   "metadata": {},
   "outputs": [
    {
     "name": "stdout",
     "output_type": "stream",
     "text": [
      "Cherry\n"
     ]
    }
   ],
   "source": [
    "small=True\n",
    "green=True\n",
    "if small and not green:\n",
    "    print(\"Cherry\")\n",
    "elif not small and green:\n",
    "    print(\"Watermelon\")\n",
    "elif not small and not green:\n",
    "    print (\"Pumpkin\")\n",
    "else:\n",
    "    print(\"Pea\")"
   ]
  },
  {
   "cell_type": "code",
   "execution_count": null,
   "id": "492c21ff-28dd-4ec6-84f8-c8102b774f80",
   "metadata": {},
   "outputs": [],
   "source": []
  }
 ],
 "metadata": {
  "kernelspec": {
   "display_name": "Python 3 (ipykernel)",
   "language": "python",
   "name": "python3"
  },
  "language_info": {
   "codemirror_mode": {
    "name": "ipython",
    "version": 3
   },
   "file_extension": ".py",
   "mimetype": "text/x-python",
   "name": "python",
   "nbconvert_exporter": "python",
   "pygments_lexer": "ipython3",
   "version": "3.12.7"
  }
 },
 "nbformat": 4,
 "nbformat_minor": 5
}
